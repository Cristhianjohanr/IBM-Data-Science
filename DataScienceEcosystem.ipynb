{
 "cells": [
  {
   "cell_type": "markdown",
   "id": "5f6341ad",
   "metadata": {},
   "source": [
    "# Data Science Tools and Ecosystem"
   ]
  },
  {
   "cell_type": "code",
   "execution_count": null,
   "id": "9ed90598",
   "metadata": {},
   "outputs": [],
   "source": []
  },
  {
   "cell_type": "markdown",
   "id": "26941ed8",
   "metadata": {},
   "source": [
    "#### In this notebook, Data Science Tools and Ecosystem are summarized."
   ]
  },
  {
   "cell_type": "code",
   "execution_count": null,
   "id": "1e34ee02",
   "metadata": {},
   "outputs": [],
   "source": []
  },
  {
   "cell_type": "markdown",
   "id": "9daca797",
   "metadata": {},
   "source": [
    "## Data Science Languages\n",
    "\n",
    "<ol>\n",
    "<li>Phyton</li>\n",
    "<li>R</li>\n",
    "<li>SQL</li>\n",
    "<li>Scala</li>\n",
    "<li>Java</li>\n",
    "<li>C++</li>\n",
    "<li>Julia</li>\n",
    "<li>JS</li>\n",
    "<li>PHP</li>\n",
    "<li>Ruby</li>\n",
    "<li>Visual Basic</li>\n",
    "</ol>"
   ]
  },
  {
   "cell_type": "code",
   "execution_count": null,
   "id": "8a36f302",
   "metadata": {},
   "outputs": [],
   "source": []
  },
  {
   "cell_type": "markdown",
   "id": "2d7e11b6",
   "metadata": {},
   "source": [
    "## Data Science Libraries\n",
    "1. Pandas.\n",
    "2. Numpy.\n",
    "3. Plotly.\n",
    "4. Scikit-learn.\n",
    "5. Category-encoders.\n",
    "6. Imbalance Learning.\n",
    "7. LightGBM / XGBoost.\n",
    "8. Keras / Tensorflow.\n",
    "9. Dplyr.\n",
    "10. data.tables."
   ]
  },
  {
   "cell_type": "code",
   "execution_count": null,
   "id": "3f6233aa",
   "metadata": {},
   "outputs": [],
   "source": []
  },
  {
   "cell_type": "markdown",
   "id": "c4927767",
   "metadata": {},
   "source": [
    "<table><tr><th>Data science tools<th><tr>\n",
    "<tr><td>MySQL<td><tr>\n",
    "<tr><td>Phyton<td><tr>\n",
    "<tr><td>Jupyter<td><tr>\n",
    "<tr><td>R<td><tr><table>    "
   ]
  },
  {
   "cell_type": "code",
   "execution_count": null,
   "id": "8c8f163a",
   "metadata": {},
   "outputs": [],
   "source": []
  },
  {
   "cell_type": "markdown",
   "id": "55a96e54",
   "metadata": {},
   "source": [
    "### Below are a few examples of evaluating arithmetic expressions in Python"
   ]
  },
  {
   "cell_type": "code",
   "execution_count": 56,
   "id": "ac1f7293",
   "metadata": {},
   "outputs": [
    {
     "data": {
      "text/plain": [
       "17"
      ]
     },
     "execution_count": 56,
     "metadata": {},
     "output_type": "execute_result"
    }
   ],
   "source": [
    "(3*4)+5\n",
    "# This a simple arithmetic expression to mutiply then add integers"
   ]
  },
  {
   "cell_type": "markdown",
   "id": "b4526f5b",
   "metadata": {},
   "source": [
    "## Convert minutes to hours"
   ]
  },
  {
   "cell_type": "code",
   "execution_count": 57,
   "id": "5e17406a",
   "metadata": {},
   "outputs": [
    {
     "data": {
      "text/plain": [
       "3.3333333333333335"
      ]
     },
     "execution_count": 57,
     "metadata": {},
     "output_type": "execute_result"
    }
   ],
   "source": [
    "200 / 60\n",
    "#  This will convert 200 minutes to hours by diving by 60"
   ]
  },
  {
   "cell_type": "code",
   "execution_count": null,
   "id": "4f545139",
   "metadata": {},
   "outputs": [],
   "source": []
  },
  {
   "cell_type": "markdown",
   "id": "7ac97cf6",
   "metadata": {},
   "source": [
    "# **OBJETIVES**\n",
    "\n",
    "* List popular languages for Data Science.\n",
    "* List popular libraries for Data Science.\n",
    "* Share the notebook through GitHub.\n",
    "* List Objectives of this notebook."
   ]
  },
  {
   "cell_type": "code",
   "execution_count": null,
   "id": "014260db",
   "metadata": {},
   "outputs": [],
   "source": []
  },
  {
   "cell_type": "markdown",
   "id": "ab66a717",
   "metadata": {},
   "source": [
    "## AUTOR\n",
    "Cristhian Johan Rodríguez Cardona"
   ]
  }
 ],
 "metadata": {
  "kernelspec": {
   "display_name": "Python 3 (ipykernel)",
   "language": "python",
   "name": "python3"
  },
  "language_info": {
   "codemirror_mode": {
    "name": "ipython",
    "version": 3
   },
   "file_extension": ".py",
   "mimetype": "text/x-python",
   "name": "python",
   "nbconvert_exporter": "python",
   "pygments_lexer": "ipython3",
   "version": "3.9.12"
  }
 },
 "nbformat": 4,
 "nbformat_minor": 5
}
