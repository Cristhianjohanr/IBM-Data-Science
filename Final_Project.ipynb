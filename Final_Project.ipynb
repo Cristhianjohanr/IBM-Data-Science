{
 "cells": [
  {
   "cell_type": "markdown",
   "id": "9444bc5c",
   "metadata": {},
   "source": [
    "# FINAL PROJECT - **Tools for Data Science**"
   ]
  },
  {
   "cell_type": "code",
   "execution_count": null,
   "id": "6f96ee1e",
   "metadata": {},
   "outputs": [],
   "source": []
  },
  {
   "cell_type": "markdown",
   "id": "d75fc727",
   "metadata": {},
   "source": [
    "## INTRODUCTION\n",
    "#### This project is the final work for the tools for data science module."
   ]
  },
  {
   "cell_type": "code",
   "execution_count": null,
   "id": "00b4d098",
   "metadata": {},
   "outputs": [],
   "source": []
  },
  {
   "cell_type": "markdown",
   "id": "eb8dbbfe",
   "metadata": {},
   "source": [
    "## Data Science Languages\n",
    "* Phyton.\n",
    "* R.\n",
    "* SQL.\n",
    "* Scala.\n",
    "* Java.\n",
    "* C++.\n",
    "* Julia.\n",
    "* JS.\n",
    "* PHP.\n",
    "* Ruby.\n",
    "* Visual Basic."
   ]
  },
  {
   "cell_type": "markdown",
   "id": "61473134",
   "metadata": {},
   "source": [
    "## Data Science Libraries\n",
    "- Pandas.\n",
    "- Numpy.\n",
    "- Plotly.\n",
    "- Scikit-learn.\n",
    "- Category-encoders.\n",
    "- Imbalance Learning.\n",
    "- LightGBM / XGBoost.\n",
    "- Keras / Tensorflow.\n",
    "- Dplyr.\n",
    "- data.tables."
   ]
  },
  {
   "cell_type": "code",
   "execution_count": null,
   "id": "bab6cecc",
   "metadata": {},
   "outputs": [],
   "source": []
  },
  {
   "cell_type": "markdown",
   "id": "374de38a",
   "metadata": {},
   "source": [
    "## Table of data science tools\n",
    "\n",
    "<table><tr><th>TOOLS 1<th><th>TOOLS 2<th><th>TOOLS 3<tr><tr>\n",
    "<tr><td>MySQL<td><td>PostgreSQL<td><td>MongoDB<td><tr>\n",
    "<tr><td>CouchDB<td><td>Cassandra<td><td>Hadoop HDFS<td><tr>\n",
    "<tr><td>CEPH<td><td>Elasticsearch<td><td>Spark<td><tr>\n",
    "<tr><td>Kibana<td><td>Jupyter<td><td>Knime<td><tr><table>    "
   ]
  },
  {
   "cell_type": "code",
   "execution_count": null,
   "id": "0f4e2e11",
   "metadata": {},
   "outputs": [],
   "source": []
  },
  {
   "cell_type": "markdown",
   "id": "d20b061e",
   "metadata": {},
   "source": [
    "## Arithmetics expressions"
   ]
  },
  {
   "cell_type": "code",
   "execution_count": 18,
   "id": "64655ce2",
   "metadata": {},
   "outputs": [
    {
     "data": {
      "text/plain": [
       "89.0"
      ]
     },
     "execution_count": 18,
     "metadata": {},
     "output_type": "execute_result"
    }
   ],
   "source": [
    "8**2+50/2"
   ]
  },
  {
   "cell_type": "code",
   "execution_count": 19,
   "id": "2e8adff2",
   "metadata": {},
   "outputs": [
    {
     "data": {
      "text/plain": [
       "50816.083333333336"
      ]
     },
     "execution_count": 19,
     "metadata": {},
     "output_type": "execute_result"
    }
   ],
   "source": [
    "(25/3)+(93/4)*3**7-40"
   ]
  },
  {
   "cell_type": "code",
   "execution_count": 30,
   "id": "8fdce6c2",
   "metadata": {},
   "outputs": [
    {
     "data": {
      "text/plain": [
       "1917.2857142857142"
      ]
     },
     "execution_count": 30,
     "metadata": {},
     "output_type": "execute_result"
    }
   ],
   "source": [
    "X = 4\n",
    "Y = 20\n",
    "(3*X/2*Y) * 4*X-2 / 7*Y+3"
   ]
  },
  {
   "cell_type": "markdown",
   "id": "dfe65e6b",
   "metadata": {},
   "source": [
    "## Multiply and add numbers"
   ]
  },
  {
   "cell_type": "code",
   "execution_count": 44,
   "id": "4a1831f6",
   "metadata": {},
   "outputs": [
    {
     "name": "stdout",
     "output_type": "stream",
     "text": [
      "NUMBER 1:\n",
      "9\n",
      "NUMBER 2:\n",
      "3\n"
     ]
    }
   ],
   "source": [
    "print(\"NUMBER 1:\")\n",
    "N1 = input()\n",
    "print(\"NUMBER 2:\")\n",
    "N2 = input()\n",
    "N1 = float(N1)\n",
    "N2 = float(N2)"
   ]
  },
  {
   "cell_type": "code",
   "execution_count": 45,
   "id": "d33dd571",
   "metadata": {},
   "outputs": [
    {
     "name": "stdout",
     "output_type": "stream",
     "text": [
      "ADD NUMBERS:\n"
     ]
    },
    {
     "data": {
      "text/plain": [
       "12.0"
      ]
     },
     "execution_count": 45,
     "metadata": {},
     "output_type": "execute_result"
    }
   ],
   "source": [
    "print(\"ADD NUMBERS:\") \n",
    "N1 + N2"
   ]
  },
  {
   "cell_type": "code",
   "execution_count": 46,
   "id": "bb315bff",
   "metadata": {},
   "outputs": [
    {
     "name": "stdout",
     "output_type": "stream",
     "text": [
      "MULTIPLY NUMBERS:\n"
     ]
    },
    {
     "data": {
      "text/plain": [
       "27.0"
      ]
     },
     "execution_count": 46,
     "metadata": {},
     "output_type": "execute_result"
    }
   ],
   "source": [
    "print(\"MULTIPLY NUMBERS:\") \n",
    "N1 * N2"
   ]
  },
  {
   "cell_type": "code",
   "execution_count": 47,
   "id": "6c22799a",
   "metadata": {},
   "outputs": [
    {
     "data": {
      "text/plain": [
       "28"
      ]
     },
     "execution_count": 47,
     "metadata": {},
     "output_type": "execute_result"
    }
   ],
   "source": []
  },
  {
   "cell_type": "markdown",
   "id": "ae5a4f04",
   "metadata": {},
   "source": [
    "## Convert minutes to hours"
   ]
  },
  {
   "cell_type": "code",
   "execution_count": 51,
   "id": "84b569b5",
   "metadata": {},
   "outputs": [
    {
     "name": "stdout",
     "output_type": "stream",
     "text": [
      "MINUTES:\n",
      "2860\n",
      "HOURS:\n"
     ]
    },
    {
     "data": {
      "text/plain": [
       "47.666666666666664"
      ]
     },
     "execution_count": 51,
     "metadata": {},
     "output_type": "execute_result"
    }
   ],
   "source": [
    "print(\"MINUTES:\")\n",
    "N1 = input()\n",
    "N1 = float(N1)\n",
    "print(\"HOURS:\")\n",
    "N1 / 60"
   ]
  },
  {
   "cell_type": "code",
   "execution_count": null,
   "id": "5db8be4c",
   "metadata": {},
   "outputs": [],
   "source": []
  },
  {
   "cell_type": "markdown",
   "id": "9482c75b",
   "metadata": {},
   "source": [
    "# OBJETIVES\n",
    "\n",
    "### Learn important tools for data science.\n",
    "### Improve Jupyter knowledge.\n",
    "### Improve Markdown knowledge."
   ]
  },
  {
   "cell_type": "code",
   "execution_count": null,
   "id": "0aec4eb2",
   "metadata": {},
   "outputs": [],
   "source": []
  },
  {
   "cell_type": "markdown",
   "id": "34591501",
   "metadata": {},
   "source": [
    "# AUTOR - Cristhian Johan Rodríguez Cardona"
   ]
  }
 ],
 "metadata": {
  "kernelspec": {
   "display_name": "Python 3 (ipykernel)",
   "language": "python",
   "name": "python3"
  },
  "language_info": {
   "codemirror_mode": {
    "name": "ipython",
    "version": 3
   },
   "file_extension": ".py",
   "mimetype": "text/x-python",
   "name": "python",
   "nbconvert_exporter": "python",
   "pygments_lexer": "ipython3",
   "version": "3.9.12"
  }
 },
 "nbformat": 4,
 "nbformat_minor": 5
}
