{
 "cells": [
  {
   "cell_type": "markdown",
   "id": "5f6341ad",
   "metadata": {},
   "source": [
    "# FINAL PROJECT - **Tools for Data Science**"
   ]
  },
  {
   "cell_type": "code",
   "execution_count": null,
   "id": "9ed90598",
   "metadata": {},
   "outputs": [],
   "source": []
  },
  {
   "cell_type": "markdown",
   "id": "26941ed8",
   "metadata": {},
   "source": [
    "## INTRODUCTION\n",
    "#### This project is the final work for the tools for data science module."
   ]
  },
  {
   "cell_type": "code",
   "execution_count": null,
   "id": "1e34ee02",
   "metadata": {},
   "outputs": [],
   "source": []
  },
  {
   "cell_type": "markdown",
   "id": "9daca797",
   "metadata": {},
   "source": [
    "## Data Science Languages\n",
    "* Phyton.\n",
    "* R.\n",
    "* SQL.\n",
    "* Scala.\n",
    "* Java.\n",
    "* C++.\n",
    "* Julia.\n",
    "* JS.\n",
    "* PHP.\n",
    "* Ruby.\n",
    "* Visual Basic."
   ]
  },
  {
   "cell_type": "markdown",
   "id": "2d7e11b6",
   "metadata": {},
   "source": [
    "## Data Science Libraries\n",
    "- Pandas.\n",
    "- Numpy.\n",
    "- Plotly.\n",
    "- Scikit-learn.\n",
    "- Category-encoders.\n",
    "- Imbalance Learning.\n",
    "- LightGBM / XGBoost.\n",
    "- Keras / Tensorflow.\n",
    "- Dplyr.\n",
    "- data.tables."
   ]
  },
  {
   "cell_type": "code",
   "execution_count": null,
   "id": "3f6233aa",
   "metadata": {},
   "outputs": [],
   "source": []
  },
  {
   "cell_type": "markdown",
   "id": "c4927767",
   "metadata": {},
   "source": [
    "## Table of data science tools\n",
    "\n",
    "<table><tr><th>TOOLS 1<th><th>TOOLS 2<th><th>TOOLS 3<tr><tr>\n",
    "<tr><td>MySQL<td><td>PostgreSQL<td><td>MongoDB<td><tr>\n",
    "<tr><td>CouchDB<td><td>Cassandra<td><td>Hadoop HDFS<td><tr>\n",
    "<tr><td>CEPH<td><td>Elasticsearch<td><td>Spark<td><tr>\n",
    "<tr><td>Kibana<td><td>Jupyter<td><td>Knime<td><tr><table>    "
   ]
  },
  {
   "cell_type": "code",
   "execution_count": null,
   "id": "8c8f163a",
   "metadata": {},
   "outputs": [],
   "source": []
  },
  {
   "cell_type": "markdown",
   "id": "55a96e54",
   "metadata": {},
   "source": [
    "## Arithmetics expressions"
   ]
  },
  {
   "cell_type": "code",
   "execution_count": 18,
   "id": "ac1f7293",
   "metadata": {},
   "outputs": [
    {
     "data": {
      "text/plain": [
       "89.0"
      ]
     },
     "execution_count": 18,
     "metadata": {},
     "output_type": "execute_result"
    }
   ],
   "source": [
    "8**2+50/2"
   ]
  },
  {
   "cell_type": "code",
   "execution_count": 19,
   "id": "fe9bdcce",
   "metadata": {},
   "outputs": [
    {
     "data": {
      "text/plain": [
       "50816.083333333336"
      ]
     },
     "execution_count": 19,
     "metadata": {},
     "output_type": "execute_result"
    }
   ],
   "source": [
    "(25/3)+(93/4)*3**7-40"
   ]
  },
  {
   "cell_type": "code",
   "execution_count": 30,
   "id": "b8080c67",
   "metadata": {},
   "outputs": [
    {
     "data": {
      "text/plain": [
       "1917.2857142857142"
      ]
     },
     "execution_count": 30,
     "metadata": {},
     "output_type": "execute_result"
    }
   ],
   "source": [
    "X = 4\n",
    "Y = 20\n",
    "(3*X/2*Y) * 4*X-2 / 7*Y+3"
   ]
  },
  {
   "cell_type": "markdown",
   "id": "9b36bb68",
   "metadata": {},
   "source": [
    "## Multiply and add numbers"
   ]
  },
  {
   "cell_type": "code",
   "execution_count": 44,
   "id": "27618baf",
   "metadata": {},
   "outputs": [
    {
     "name": "stdout",
     "output_type": "stream",
     "text": [
      "NUMBER 1:\n",
      "9\n",
      "NUMBER 2:\n",
      "3\n"
     ]
    }
   ],
   "source": [
    "print(\"NUMBER 1:\")\n",
    "N1 = input()\n",
    "print(\"NUMBER 2:\")\n",
    "N2 = input()\n",
    "N1 = float(N1)\n",
    "N2 = float(N2)"
   ]
  },
  {
   "cell_type": "code",
   "execution_count": 45,
   "id": "fdcbc930",
   "metadata": {},
   "outputs": [
    {
     "name": "stdout",
     "output_type": "stream",
     "text": [
      "ADD NUMBERS:\n"
     ]
    },
    {
     "data": {
      "text/plain": [
       "12.0"
      ]
     },
     "execution_count": 45,
     "metadata": {},
     "output_type": "execute_result"
    }
   ],
   "source": [
    "print(\"ADD NUMBERS:\") \n",
    "N1 + N2"
   ]
  },
  {
   "cell_type": "code",
   "execution_count": 46,
   "id": "1a400bdd",
   "metadata": {},
   "outputs": [
    {
     "name": "stdout",
     "output_type": "stream",
     "text": [
      "MULTIPLY NUMBERS:\n"
     ]
    },
    {
     "data": {
      "text/plain": [
       "27.0"
      ]
     },
     "execution_count": 46,
     "metadata": {},
     "output_type": "execute_result"
    }
   ],
   "source": [
    "print(\"MULTIPLY NUMBERS:\") \n",
    "N1 * N2"
   ]
  },
  {
   "cell_type": "markdown",
   "id": "b4526f5b",
   "metadata": {},
   "source": [
    "## Convert minutes to hours"
   ]
  },
  {
   "cell_type": "code",
   "execution_count": 51,
   "id": "5e17406a",
   "metadata": {},
   "outputs": [
    {
     "name": "stdout",
     "output_type": "stream",
     "text": [
      "MINUTES:\n",
      "2860\n",
      "HOURS:\n"
     ]
    },
    {
     "data": {
      "text/plain": [
       "47.666666666666664"
      ]
     },
     "execution_count": 51,
     "metadata": {},
     "output_type": "execute_result"
    }
   ],
   "source": [
    "print(\"MINUTES:\")\n",
    "N1 = input()\n",
    "N1 = float(N1)\n",
    "print(\"HOURS:\")\n",
    "N1 / 60"
   ]
  },
  {
   "cell_type": "code",
   "execution_count": null,
   "id": "4f545139",
   "metadata": {},
   "outputs": [],
   "source": []
  },
  {
   "cell_type": "markdown",
   "id": "7ac97cf6",
   "metadata": {},
   "source": [
    "# OBJETIVES\n",
    "\n",
    "### Learn important tools for data science.\n",
    "### Improve Jupyter knowledge.\n",
    "### Improve Markdown knowledge."
   ]
  },
  {
   "cell_type": "code",
   "execution_count": null,
   "id": "014260db",
   "metadata": {},
   "outputs": [],
   "source": []
  },
  {
   "cell_type": "markdown",
   "id": "ab66a717",
   "metadata": {},
   "source": [
    "# AUTOR - Cristhian Johan Rodríguez Cardona"
   ]
  }
 ],
 "metadata": {
  "kernelspec": {
   "display_name": "Python 3 (ipykernel)",
   "language": "python",
   "name": "python3"
  },
  "language_info": {
   "codemirror_mode": {
    "name": "ipython",
    "version": 3
   },
   "file_extension": ".py",
   "mimetype": "text/x-python",
   "name": "python",
   "nbconvert_exporter": "python",
   "pygments_lexer": "ipython3",
   "version": "3.9.12"
  }
 },
 "nbformat": 4,
 "nbformat_minor": 5
}
